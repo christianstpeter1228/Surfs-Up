{
 "cells": [
  {
   "cell_type": "code",
   "execution_count": 1,
   "metadata": {},
   "outputs": [],
   "source": [
    "import datetime as dt\n",
    "import pandas as pd\n",
    "from sqlalchemy.ext.automap import automap_base\n",
    "from sqlalchemy.orm import Session\n",
    "from sqlalchemy import create_engine, func\n",
    "from flask import Flask, jsonify"
   ]
  },
  {
   "cell_type": "code",
   "execution_count": 2,
   "metadata": {},
   "outputs": [],
   "source": [
    "engine = create_engine(\"sqlite:///Resources/hawaii.sqlite\")"
   ]
  },
  {
   "cell_type": "code",
   "execution_count": 3,
   "metadata": {},
   "outputs": [],
   "source": [
    "Base = automap_base()\n",
    "Base.prepare(engine, reflect=True)\n",
    "Measurement = Base.classes.measurement\n",
    "Station = Base.classes.station\n",
    "session = Session(bind=engine)"
   ]
  },
  {
   "cell_type": "code",
   "execution_count": 4,
   "metadata": {},
   "outputs": [],
   "source": [
    "app = Flask(__name__)"
   ]
  },
  {
   "cell_type": "code",
   "execution_count": 5,
   "metadata": {},
   "outputs": [],
   "source": [
    "#Home Page\n",
    "@app.route(\"/\")\n",
    "def home():\n",
    "    print(\"Hello!\")\n",
    "    return \"Welcome to the Surfs Up! Weather API!\""
   ]
  },
  {
   "cell_type": "code",
   "execution_count": 6,
   "metadata": {},
   "outputs": [],
   "source": [
    "#List of All Available Routes\n",
    "@app.route(\"/Welcome\")\n",
    "def welcome ():\n",
    "    return (\n",
    "        f\"Welcome to the Surfs Up! API<br>\"\n",
    "        f\"Available Routes:<br>\"\n",
    "        f\"/api/v1.0/precipitation<br>\"\n",
    "        f\"/api/v1.0/stations<br>\"\n",
    "        f\"/api/v1.0/tobs<br>\"\n",
    "        f\"/api/v1.0/<start><br>\"\n",
    "        f\"/api/v1.0<start>/<end><br>\"\n",
    "    )"
   ]
  },
  {
   "cell_type": "code",
   "execution_count": 7,
   "metadata": {},
   "outputs": [],
   "source": [
    "#Precipitation Data over Last 12 Months\n",
    "@app.route(\"/api/v1.0/precipitation\")\n",
    "def precipitation():\n",
    "    results = session.query(Measurement.date,Measurement.prcp).filter(Measurement.date >= \"2016-08-23\").all()\n",
    "    precip_year = list(np.ravel(results))\n",
    "    precip_data = []\n",
    "    for precipitation in results:\n",
    "        row = {}\n",
    "        row[Measurement.date] = row[Measurement.prcp]\n",
    "        year_prcp.append(row)\n",
    "    return jsonify(precip_year)"
   ]
  },
  {
   "cell_type": "code",
   "execution_count": 8,
   "metadata": {},
   "outputs": [],
   "source": [
    "#Return a JSON list of stations from the dataset.\n",
    "@app.route(\"/api/v1.0/stations\")\n",
    "def stations():\n",
    "    results = session.query(Stations.station).all()\n",
    "    station_list = list(np.ravel(results))\n",
    "    return jsonify(station_list)"
   ]
  },
  {
   "cell_type": "code",
   "execution_count": 9,
   "metadata": {},
   "outputs": [],
   "source": [
    "#Return a JSON list of Temperature Observations (tobs) for the previous year\n",
    "@app.route(\"/api/v1.0/tobs\")\n",
    "def temperature():\n",
    "    tobs_data = []\n",
    "    results = session.query(Measurement.tobs).filter(Measurement.date >= \"2016-08-23\").all()\n",
    "    tobs_year = list(np.ravel(results))\n",
    "    return jsonify(tobs_year)"
   ]
  },
  {
   "cell_type": "code",
   "execution_count": 10,
   "metadata": {},
   "outputs": [],
   "source": [
    "#Return a JSON list of the minimum temperature, the average temperature, and the max temperature for a given start or start-end range.\n",
    "@app.route(\"/api/v1.0/<start>\")\n",
    "def start_temp(start_date):\n",
    "    start_time = []\n",
    "    min_temp= session.query(func.min(Measurement.tobs)).filter(Measurement.date == start_date).all()\n",
    "    max_temp = session.query(func.max(Measurement.tobs)).filter(Measurement.date == start_date).all()\n",
    "    mean_temp = session.query(func.avg(Measurement.tobs)).filter(Measurement.date == start_date).all()\n",
    "    start_time = list(np.ravel(min_temp,max_temp, mean_temp))\n",
    "    return jsonify(start_time)\n",
    "\n",
    "#When given the start only, calculate TMIN, TAVG, and TMAX for all dates greater than and equal to the start date\n",
    "def greater_equal_start_temp(start_date):\n",
    "    start_greater_time = []\n",
    "    min_temp = session.query(func.min(Measurement.tobs)).filter(Measurement.date >= start_date).all()\n",
    "    max_temp = session.query(func.max(Measurement.tobs)).filter(Measurement.date >= start_date).all()\n",
    "    mean_temp = session.query(func.avg(Measurement.tobs)).filter(Measurement.date >= start_date).all()\n",
    "    start_greater_time = list(np.ravel(min_temp, max_temp, mean_temp))\n",
    "    return jsonify(start_greater_time)"
   ]
  },
  {
   "cell_type": "code",
   "execution_count": 11,
   "metadata": {},
   "outputs": [],
   "source": [
    "#Equal to the End Date\n",
    "@app.route(\"/api/v1.0/<start>/<end>\")\n",
    "def start_end_time(start_date, end_date):\n",
    "    start_end_time = []\n",
    "    min_temp = session.query(func.min(Measurement.tobs)).filter(Measurement.date == start_date, Measurement.date == end_date).all()\n",
    "    max_temp = session.query(func.max(Measurement.tobs)).filter(Measurement.date == start_date, Measurement.date == end_date).all()\n",
    "    mean_temp = session.query(func.avg(Measurement.tobs)).filter(Measurement.date == start_date, Measurement.date == end_date).all()\n",
    "    start_end_time = list(np.ravel(min_temp, max_temp, mean_temp))\n",
    "    return jsonify(start_end_time)\n",
    "\n",
    "#When given the start and the end date, calculate the TMIN, TAVG, and TMAX for dates between the start and end date inclusive\n",
    "def start_end_between(start_date, end_date):\n",
    "    between_time = []\n",
    "    results_min = session.query(func.min(Measurement.tobs)).filter(Measurement.date >= start_date, Measurement.date >= end_date).all()\n",
    "    results_max = session.query(func.max(Measurement.tobs)).filter(Measurement.date >= start_date, Measurement.date >= end_date).all()\n",
    "    results_avg = session.query(func.avg(Measurement.tobs)).filter(Measurement.date >= start_date, Measurement.date >= end_date).all()\n",
    "    between_time = list(np.ravel(min_temp, max_temp, mean_temp))\n",
    "    return jsonify(between_time)\n",
    "\n",
    "if __name__ == '__main__':\n",
    "    app.run(debug=True)\n"
   ]
  }
 ],
 "metadata": {
  "kernelspec": {
   "display_name": "Python 3",
   "language": "python",
   "name": "python3"
  },
  "language_info": {
   "codemirror_mode": {
    "name": "ipython",
    "version": 3
   },
   "file_extension": ".py",
   "mimetype": "text/x-python",
   "name": "python",
   "nbconvert_exporter": "python",
   "pygments_lexer": "ipython3",
   "version": "3.6.6"
  }
 },
 "nbformat": 4,
 "nbformat_minor": 2
}
